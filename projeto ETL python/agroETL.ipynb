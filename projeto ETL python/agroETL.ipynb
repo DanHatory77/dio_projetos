{
  "cells": [
    {
      "cell_type": "markdown",
      "metadata": {
        "colab_type": "text",
        "id": "view-in-github"
      },
      "source": [
        "<a href=\"https://colab.research.google.com/github/DanHatory77/dio_projetos/blob/main/agroETL.ipynb\" target=\"_parent\"><img src=\"https://colab.research.google.com/assets/colab-badge.svg\" alt=\"Open In Colab\"/></a>"
      ]
    },
    {
      "cell_type": "markdown",
      "metadata": {
        "id": "pPTe02baqMt6"
      },
      "source": [
        " # Pipeline ETL Agropecuaria\n",
        "\n"
      ]
    },
    {
      "cell_type": "markdown",
      "metadata": {
        "id": "MsgupvpBqvRO"
      },
      "source": [
        "**Contexto**:\n",
        "Esse progama foi desenvolvido para auxiliar o gerente de marketing no envio de mensagens de promoções de produtos agropecuários para os clientes.\n",
        "1. Cria um arquivo csv contendo as ids, nomes, email e noticias relevantes para cada cliente.\n",
        "2. Acessa o arquivo CSV para obter os dados dos clientes.\n",
        "3. Gera as mensagens promocionais para cada usuário.\n",
        "4. Envia a mensagem de volta para o arquivo CSV, povoando a coluna 'noticias.'\n"
      ]
    },
    {
      "cell_type": "markdown",
      "metadata": {
        "id": "G42g6vjorHWl"
      },
      "source": [
        "## Extrair\n",
        "Cria e extrai os dados do arquivo csv."
      ]
    },
    {
      "cell_type": "code",
      "execution_count": null,
      "metadata": {
        "colab": {
          "base_uri": "https://localhost:8080/"
        },
        "id": "udBU9rQAAAfk",
        "outputId": "5fb4854f-e3fa-4d26-98c7-0be811ca7060"
      },
      "outputs": [
        {
          "name": "stdout",
          "output_type": "stream",
          "text": [
            "IDs dos clientes: [1, 2, 3]\n"
          ]
        }
      ],
      "source": [
        "import pandas as pd\n",
        "\n",
        "# Função para criar o arquivo CSV\n",
        "def criar_csv_clientes():\n",
        "    data = {\n",
        "        'id_cliente': [1, 2, 3],\n",
        "        'nome_cliente': ['Ana', 'Pedro', 'João'],\n",
        "        'email_cliente':['ana777@email.com','pedro123@email.com','joao1990@email.com'],\n",
        "        'noticias': ['', '', ''],\n",
        "    }\n",
        "\n",
        "    df = pd.DataFrame(data)\n",
        "    df.to_csv('clientes.csv', index=False)\n",
        "\n",
        "# Função para extrair os IDs dos clientes do arquivo CSV\n",
        "def extrair_ids_clientes():\n",
        "    df = pd.read_csv('clientes.csv')\n",
        "    ids = df['id_cliente'].tolist()\n",
        "    return ids\n",
        "\n",
        "# Chama o metodo para criar o arquivo CSV\n",
        "criar_csv_clientes()\n",
        "\n",
        "# Extrai os IDs dos clientes\n",
        "ids_clientes = extrair_ids_clientes()\n",
        "print(\"IDs dos clientes:\", ids_clientes)\n"
      ]
    },
    {
      "cell_type": "markdown",
      "metadata": {
        "id": "NQBCcHve8Xpo"
      },
      "source": [
        "# Transform\n",
        "Gerar as mensagens personalizadas para cada cliente."
      ]
    },
    {
      "cell_type": "code",
      "execution_count": null,
      "metadata": {
        "colab": {
          "base_uri": "https://localhost:8080/"
        },
        "id": "a50sATFWb0cr",
        "outputId": "fbbcda28-4f5d-4c17-920d-1eaed5f38a97"
      },
      "outputs": [],
      "source": [
        "!pip install emoji"
      ]
    },
    {
      "cell_type": "code",
      "execution_count": null,
      "metadata": {
        "id": "V5l0Q7fZjXYc"
      },
      "outputs": [],
      "source": [
        "import pandas as pd\n",
        "import random\n",
        "import emoji\n",
        "\n",
        "# Função para gerar mensagens para um cliente\n",
        "def gerar_mensagem():\n",
        "    mensagens = [\n",
        "        \"Queridos apicultores, estamos animados em anunciar uma promoção exclusiva para vocês! 🐝✨\",\n",
        "        \"Preparem suas colmeias, porque nossa promoção de produtos apícolas está de volta! 🍯🏡\",\n",
        "        \"Preparem suas colmeias, porque nossa promoção de produtos apícolas está de volta! 🍯🏡\",\n",
        "        \"Economize enquanto cuida de suas abelhinhas com nossos descontos especiais em produtos para apicultura. 🐝💰\",\n",
        "\"É a temporada de melhoria da sua apicultura! Aproveite nossos preços especiais em todos os equipamentos apícolas. 🌼🛒\",\n",
        "\"Estoque-se para o sucesso na apicultura! Produtos essenciais com descontos incríveis. 🐝🔧\",\n",
        "\"Cuide das suas abelhas com carinho e economia com nossa promoção de produtos para apicultura. 🍯💖\",\n",
        "\"Nossa loja está zumbindo de emoção com essa promoção exclusiva para apicultores. 🐝🎉\",\n",
        "\"Não deixe essa oportunidade voar! Ofertas incríveis em todos os itens essenciais para a apicultura. 🌼💸\",\n",
        "\"Desde trajes de proteção até colmeias de alta qualidade, temos tudo o que você precisa, com descontos imperdíveis. 🐝👷‍♂️\",\n",
        "\"Venha nos visitar hoje mesmo e aproveite nossos preços especiais em produtos para apicultura. Seu sucesso começa aqui! 🏡🛍️\"\n",
        "    ]\n",
        "    return random.choice(mensagens)\n",
        "\n",
        "# Função para atualizar a coluna \"noticias\" no arquivo CSV\n",
        "def atualizar_noticias_csv():\n",
        "    # Carregar o arquivo CSV\n",
        "    df = pd.read_csv('clientes.csv')\n",
        "\n",
        "    # Gerar e atualizar mensagens para cada cliente\n",
        "    df['noticias'] = [gerar_mensagem() for _ in range(len(df))]\n",
        "\n",
        "    # Salvar o DataFrame de volta no arquivo CSV\n",
        "    df.to_csv('clientes.csv', index=False)\n",
        "\n",
        "# Chamar a função para atualizar as notícias no CSV\n",
        "atualizar_noticias_csv()\n",
        "\n"
      ]
    },
    {
      "cell_type": "markdown",
      "metadata": {
        "id": "HFM2KB4zjhaz"
      },
      "source": [
        "# Load\n",
        "Atualiza a coluna 'noticias' com as novas mensagens para os clientes."
      ]
    },
    {
      "cell_type": "code",
      "execution_count": null,
      "metadata": {
        "id": "sdMfwPzfj2UG"
      },
      "outputs": [],
      "source": [
        "def atualizar_noticias_csv():\n",
        "    # Carregar o arquivo CSV\n",
        "    df = pd.read_csv('clientes.csv')\n",
        "\n",
        "    # Gerar e atualizar mensagens para cada cliente\n",
        "    df['noticias'] = [gerar_mensagem() for _ in range(len(df))]\n",
        "\n",
        "    # Salvar o DataFrame de volta no arquivo CSV\n",
        "    df.to_csv('clientes.csv', index=False)\n",
        "\n",
        "# Chamar a função para atualizar as notícias no CSV\n",
        "atualizar_noticias_csv()"
      ]
    }
  ],
  "metadata": {
    "colab": {
      "include_colab_link": true,
      "provenance": []
    },
    "kernelspec": {
      "display_name": "Python (Pyodide)",
      "language": "python",
      "name": "python"
    },
    "language_info": {
      "codemirror_mode": {
        "name": "python",
        "version": 3
      },
      "file_extension": ".py",
      "mimetype": "text/x-python",
      "name": "python",
      "nbconvert_exporter": "python",
      "pygments_lexer": "ipython3",
      "version": "3.8"
    }
  },
  "nbformat": 4,
  "nbformat_minor": 0
}
