{
  "metadata": {
    "language_info": {
      "codemirror_mode": {
        "name": "python",
        "version": 3
      },
      "file_extension": ".py",
      "mimetype": "text/x-python",
      "name": "python",
      "nbconvert_exporter": "python",
      "pygments_lexer": "ipython3",
      "version": "3.8"
    },
    "kernelspec": {
      "name": "python",
      "display_name": "Python (Pyodide)",
      "language": "python"
    },
    "colab": {
      "provenance": [],
      "include_colab_link": true
    }
  },
  "nbformat_minor": 0,
  "nbformat": 4,
  "cells": [
    {
      "cell_type": "markdown",
      "metadata": {
        "id": "view-in-github",
        "colab_type": "text"
      },
      "source": [
        "<a href=\"https://colab.research.google.com/github/DanHatory77/dio_projetos/blob/main/agroETL.ipynb\" target=\"_parent\"><img src=\"https://colab.research.google.com/assets/colab-badge.svg\" alt=\"Open In Colab\"/></a>"
      ]
    },
    {
      "cell_type": "markdown",
      "source": [
        " # Pipeline ETL Agropecuaria\n",
        "\n"
      ],
      "metadata": {
        "id": "pPTe02baqMt6"
      }
    },
    {
      "cell_type": "markdown",
      "source": [
        "**Contexto**:\n",
        "Esse progama foi desenvolvido para auxiliar o gerente de marketing no envio de mensagens de promoções de produtos agropecuários para os clientes.\n",
        "1. Recebe um arquivo csv contendo as ids dos clientes.\n",
        "2. Consome o api SDW para obter os dados dos clientes.\n",
        "3. Gera as mensagens para cada usuário.\n",
        "4. Envia a mensagem pronta para a api SDW.\n"
      ],
      "metadata": {
        "id": "MsgupvpBqvRO"
      }
    },
    {
      "cell_type": "markdown",
      "source": [
        "## Extrair\n",
        "Cria e extrai os dados do arquivo csv."
      ],
      "metadata": {
        "id": "G42g6vjorHWl"
      }
    },
    {
      "cell_type": "code",
      "source": [
        "import pandas as pd\n",
        "\n",
        "# Função para criar o arquivo CSV\n",
        "def criar_csv_clientes():\n",
        "    data = {\n",
        "        'id_cliente': [1, 2, 3],\n",
        "        'nome_cliente': ['Ana', 'Pedro', 'João'],\n",
        "        'noticias': ['', '', ''],\n",
        "    }\n",
        "\n",
        "    df = pd.DataFrame(data)\n",
        "    df.to_csv('clientes.csv', index=False)\n",
        "\n",
        "# Função para extrair os IDs dos clientes do arquivo CSV\n",
        "def extrair_ids_clientes():\n",
        "    df = pd.read_csv('clientes.csv')\n",
        "    ids = df['id_cliente'].tolist()\n",
        "    return ids\n",
        "\n",
        "# Chama o metodo para criar o arquivo CSV\n",
        "criar_csv_clientes()\n",
        "\n",
        "# Extrai os IDs dos clientes\n",
        "ids_clientes = extrair_ids_clientes()\n",
        "print(\"IDs dos clientes:\", ids_clientes)\n"
      ],
      "metadata": {
        "colab": {
          "base_uri": "https://localhost:8080/"
        },
        "id": "udBU9rQAAAfk",
        "outputId": "5fb4854f-e3fa-4d26-98c7-0be811ca7060"
      },
      "execution_count": null,
      "outputs": [
        {
          "output_type": "stream",
          "name": "stdout",
          "text": [
            "IDs dos clientes: [1, 2, 3]\n"
          ]
        }
      ]
    },
    {
      "cell_type": "markdown",
      "source": [
        "# Transform\n",
        "Gerar as mensagens personalizadas para cada cliente."
      ],
      "metadata": {
        "id": "NQBCcHve8Xpo"
      }
    },
    {
      "cell_type": "code",
      "source": [
        "!pip install emoji"
      ],
      "metadata": {
        "colab": {
          "base_uri": "https://localhost:8080/"
        },
        "id": "a50sATFWb0cr",
        "outputId": "fbbcda28-4f5d-4c17-920d-1eaed5f38a97"
      },
      "execution_count": null,
      "outputs": [
        {
          "output_type": "stream",
          "name": "stdout",
          "text": [
            "Collecting emoji\n",
            "  Downloading emoji-2.8.0-py2.py3-none-any.whl (358 kB)\n",
            "\u001b[?25l     \u001b[90m━━━━━━━━━━━━━━━━━━━━━━━━━━━━━━━━━━━━━━━━\u001b[0m \u001b[32m0.0/358.9 kB\u001b[0m \u001b[31m?\u001b[0m eta \u001b[36m-:--:--\u001b[0m\r\u001b[2K     \u001b[91m━━━━━━━━━━━━\u001b[0m\u001b[90m╺\u001b[0m\u001b[90m━━━━━━━━━━━━━━━━━━━━━━━━━━\u001b[0m \u001b[32m112.6/358.9 kB\u001b[0m \u001b[31m3.3 MB/s\u001b[0m eta \u001b[36m0:00:01\u001b[0m\r\u001b[2K     \u001b[90m━━━━━━━━━━━━━━━━━━━━━━━━━━━━━━━━━━━━━━━\u001b[0m \u001b[32m358.9/358.9 kB\u001b[0m \u001b[31m5.6 MB/s\u001b[0m eta \u001b[36m0:00:00\u001b[0m\n",
            "\u001b[?25hInstalling collected packages: emoji\n",
            "Successfully installed emoji-2.8.0\n"
          ]
        }
      ]
    },
    {
      "cell_type": "code",
      "source": [
        "import pandas as pd\n",
        "import random\n",
        "import emoji\n",
        "\n",
        "# Função para gerar mensagens para um cliente\n",
        "def gerar_mensagem():\n",
        "    mensagens = [\n",
        "        \"Queridos apicultores, estamos animados em anunciar uma promoção exclusiva para vocês! 🐝✨\",\n",
        "        \"Preparem suas colmeias, porque nossa promoção de produtos apícolas está de volta! 🍯🏡\",\n",
        "        \"Preparem suas colmeias, porque nossa promoção de produtos apícolas está de volta! 🍯🏡\",\n",
        "        \"Economize enquanto cuida de suas abelhinhas com nossos descontos especiais em produtos para apicultura. 🐝💰\",\n",
        "\"É a temporada de melhoria da sua apicultura! Aproveite nossos preços especiais em todos os equipamentos apícolas. 🌼🛒\",\n",
        "\"Estoque-se para o sucesso na apicultura! Produtos essenciais com descontos incríveis. 🐝🔧\",\n",
        "\"Cuide das suas abelhas com carinho e economia com nossa promoção de produtos para apicultura. 🍯💖\",\n",
        "\"Nossa loja está zumbindo de emoção com essa promoção exclusiva para apicultores. 🐝🎉\",\n",
        "\"Não deixe essa oportunidade voar! Ofertas incríveis em todos os itens essenciais para a apicultura. 🌼💸\",\n",
        "\"Desde trajes de proteção até colmeias de alta qualidade, temos tudo o que você precisa, com descontos imperdíveis. 🐝👷‍♂️\",\n",
        "\"Venha nos visitar hoje mesmo e aproveite nossos preços especiais em produtos para apicultura. Seu sucesso começa aqui! 🏡🛍️\"\n",
        "    ]\n",
        "    return random.choice(mensagens)\n",
        "\n",
        "# Função para atualizar a coluna \"noticias\" no arquivo CSV\n",
        "def atualizar_noticias_csv():\n",
        "    # Carregar o arquivo CSV\n",
        "    df = pd.read_csv('clientes.csv')\n",
        "\n",
        "    # Gerar e atualizar mensagens para cada cliente\n",
        "    df['noticias'] = [gerar_mensagem() for _ in range(len(df))]\n",
        "\n",
        "    # Salvar o DataFrame de volta no arquivo CSV\n",
        "    df.to_csv('clientes.csv', index=False)\n",
        "\n",
        "# Chamar a função para atualizar as notícias no CSV\n",
        "atualizar_noticias_csv()\n",
        "\n"
      ],
      "metadata": {
        "id": "V5l0Q7fZjXYc"
      },
      "execution_count": null,
      "outputs": []
    },
    {
      "cell_type": "markdown",
      "source": [
        "# Load\n",
        "Atualiza a coluna 'noticias' com as novas mensagens para os clientes."
      ],
      "metadata": {
        "id": "HFM2KB4zjhaz"
      }
    },
    {
      "cell_type": "code",
      "source": [
        "def atualizar_noticias_csv():\n",
        "    # Carregar o arquivo CSV\n",
        "    df = pd.read_csv('clientes.csv')\n",
        "\n",
        "    # Gerar e atualizar mensagens para cada cliente\n",
        "    df['noticias'] = [gerar_mensagem() for _ in range(len(df))]\n",
        "\n",
        "    # Salvar o DataFrame de volta no arquivo CSV\n",
        "    df.to_csv('clientes.csv', index=False)\n",
        "\n",
        "# Chamar a função para atualizar as notícias no CSV\n",
        "atualizar_noticias_csv()"
      ],
      "metadata": {
        "id": "sdMfwPzfj2UG"
      },
      "execution_count": null,
      "outputs": []
    }
  ]
}